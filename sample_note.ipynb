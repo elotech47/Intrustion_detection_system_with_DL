{
    "cells": [
        {
            "cell_type": "code",
            "execution_count": 1,
            "source": [
                "#Import neccessary packages\n",
                "import pandas as pd\n",
                "import numpy as np\n",
                "import matplotlib.pyplot as plt\n",
                "import lazypredict\n",
                "from sklearn.model_selection import train_test_split"
            ],
            "outputs": [],
            "metadata": {}
        },
        {
            "cell_type": "code",
            "execution_count": 2,
            "source": [
                "df = pd.read_csv(\"Dataset/web_attacks_balanced.csv\")"
            ],
            "outputs": [],
            "metadata": {}
        },
        {
            "cell_type": "code",
            "execution_count": 3,
            "source": [
                "excluded = ['Flow ID', 'Source IP', 'Source Port', 'Destination IP', 'Destination Port', 'Protocol']\n",
                "df = df.drop(columns=excluded, errors='ignore')"
            ],
            "outputs": [],
            "metadata": {}
        },
        {
            "cell_type": "code",
            "execution_count": 4,
            "source": [
                "webattack_features = ['Average Packet Size',\n",
                " 'Bwd Packet Length Std',\n",
                " 'Avg Bwd Segment Size',\n",
                " 'Bwd Packet Length Mean',\n",
                " 'Total Length of Fwd Packets',\n",
                " 'Fwd Packet Length Mean',\n",
                " 'Packet Length Variance',\n",
                " 'Bwd Packet Length Max',\n",
                " 'Min Packet Length',\n",
                " 'Fwd Packet Length Max']"
            ],
            "outputs": [],
            "metadata": {}
        },
        {
            "cell_type": "code",
            "execution_count": 5,
            "source": [
                "df_pos = df[df[\"Label\"]== 1]\n",
                "df_neg = df[df[\"Label\"]== 0]\n",
                "\n",
                "df_sample = pd.concat([df_pos.head(5000), df_neg.head(5000)])\n",
                "df_sample[\"Label\"].value_counts()"
            ],
            "outputs": [
                {
                    "output_type": "execute_result",
                    "data": {
                        "text/plain": [
                            "1    5000\n",
                            "0    5000\n",
                            "Name: Label, dtype: int64"
                        ]
                    },
                    "metadata": {},
                    "execution_count": 5
                }
            ],
            "metadata": {}
        },
        {
            "cell_type": "code",
            "execution_count": 6,
            "source": [
                "y = df_sample['Label'].values\n",
                "X = df_sample[webattack_features]\n",
                "print(X.shape, y.shape)"
            ],
            "outputs": [
                {
                    "output_type": "stream",
                    "name": "stdout",
                    "text": [
                        "(10000, 10) (10000,)\n"
                    ]
                }
            ],
            "metadata": {}
        },
        {
            "cell_type": "code",
            "execution_count": 7,
            "source": [
                "X_train, X_test, y_train, y_test = train_test_split(X, y, test_size=0.3, random_state=42)\n",
                "print(X_train.shape, y_train.shape)\n",
                "print(X_test.shape, y_test.shape)"
            ],
            "outputs": [
                {
                    "output_type": "stream",
                    "name": "stdout",
                    "text": [
                        "(7000, 10) (7000,)\n",
                        "(3000, 10) (3000,)\n"
                    ]
                }
            ],
            "metadata": {}
        },
        {
            "cell_type": "code",
            "execution_count": 8,
            "source": [
                "#import pyforest\n",
                "import warnings\n",
                "warnings.filterwarnings(\"ignore\")\n",
                "from sklearn import metrics\n",
                "from sklearn.metrics import accuracy_score\n",
                "import lazypredict\n",
                "from lazypredict.Supervised import LazyClassifier"
            ],
            "outputs": [],
            "metadata": {}
        },
        {
            "cell_type": "code",
            "execution_count": 9,
            "source": [
                "clf = LazyClassifier(verbose=1, ignore_warnings=True, custom_metric = None)\n",
                "models, predictions = clf.fit(X_train, X_test, y_train, y_test)\n"
            ],
            "outputs": [
                {
                    "output_type": "stream",
                    "name": "stderr",
                    "text": [
                        "  3%|▎         | 1/29 [00:00<00:07,  3.71it/s]"
                    ]
                },
                {
                    "output_type": "stream",
                    "name": "stdout",
                    "text": [
                        "{'Model': 'AdaBoostClassifier', 'Accuracy': 0.977, 'Balanced Accuracy': 0.9764676818917821, 'ROC AUC': 0.9764676818917821, 'F1 Score': 0.9769778969052239, 'Time taken': 0.26940417289733887}\n",
                        "{'Model': 'BaggingClassifier', 'Accuracy': 0.9763333333333334, 'Balanced Accuracy': 0.9758170638045993, 'ROC AUC': 0.9758170638045993, 'F1 Score': 0.976311634392979, 'Time taken': 0.07499170303344727}\n",
                        "{'Model': 'BernoulliNB', 'Accuracy': 0.9243333333333333, 'Balanced Accuracy': 0.9224855034018475, 'ROC AUC': 0.9224855034018477, 'F1 Score': 0.9237886597014866, 'Time taken': 0.022307157516479492}\n"
                    ]
                },
                {
                    "output_type": "stream",
                    "name": "stderr",
                    "text": [
                        " 28%|██▊       | 8/29 [00:00<00:02, 10.49it/s]"
                    ]
                },
                {
                    "output_type": "stream",
                    "name": "stdout",
                    "text": [
                        "{'Model': 'CalibratedClassifierCV', 'Accuracy': 0.9433333333333334, 'Balanced Accuracy': 0.9419660228823671, 'ROC AUC': 0.9419660228823671, 'F1 Score': 0.9430911143747647, 'Time taken': 0.4647328853607178}\n",
                        "{'Model': 'DecisionTreeClassifier', 'Accuracy': 0.9763333333333334, 'Balanced Accuracy': 0.9758170638045993, 'ROC AUC': 0.9758170638045993, 'F1 Score': 0.976311634392979, 'Time taken': 0.032021284103393555}\n",
                        "{'Model': 'DummyClassifier', 'Accuracy': 0.5083333333333333, 'Balanced Accuracy': 0.5083384067906207, 'ROC AUC': 0.5083384067906207, 'F1 Score': 0.5084081326741072, 'Time taken': 0.026182174682617188}\n",
                        "{'Model': 'ExtraTreeClassifier', 'Accuracy': 0.976, 'Balanced Accuracy': 0.9754588458488742, 'ROC AUC': 0.9754588458488743, 'F1 Score': 0.9759763980582914, 'Time taken': 0.0235595703125}\n"
                    ]
                },
                {
                    "output_type": "stream",
                    "name": "stderr",
                    "text": [
                        " 38%|███▊      | 11/29 [00:01<00:02,  8.68it/s]"
                    ]
                },
                {
                    "output_type": "stream",
                    "name": "stdout",
                    "text": [
                        "{'Model': 'ExtraTreesClassifier', 'Accuracy': 0.976, 'Balanced Accuracy': 0.975475300304941, 'ROC AUC': 0.975475300304941, 'F1 Score': 0.9759774683616463, 'Time taken': 0.26395678520202637}\n",
                        "{'Model': 'GaussianNB', 'Accuracy': 0.943, 'Balanced Accuracy': 0.9416242593827089, 'ROC AUC': 0.9416242593827089, 'F1 Score': 0.9427538004687251, 'Time taken': 0.018793582916259766}\n",
                        "{'Model': 'KNeighborsClassifier', 'Accuracy': 0.9753333333333334, 'Balanced Accuracy': 0.9747917733056246, 'ROC AUC': 0.9747917733056246, 'F1 Score': 0.9753090757821328, 'Time taken': 0.1541917324066162}\n",
                        "{'Model': 'LabelPropagation', 'Accuracy': 0.9353333333333333, 'Balanced Accuracy': 0.9337472444345026, 'ROC AUC': 0.9337472444345027, 'F1 Score': 0.9349766997680233, 'Time taken': 14.304368019104004}\n"
                    ]
                }
            ],
            "metadata": {}
        },
        {
            "cell_type": "code",
            "execution_count": null,
            "source": [
                "models"
            ],
            "outputs": [],
            "metadata": {}
        }
    ],
    "metadata": {
        "orig_nbformat": 4,
        "language_info": {
            "name": "python",
            "version": "3.8.10",
            "mimetype": "text/x-python",
            "codemirror_mode": {
                "name": "ipython",
                "version": 3
            },
            "pygments_lexer": "ipython3",
            "nbconvert_exporter": "python",
            "file_extension": ".py"
        },
        "kernelspec": {
            "name": "python3",
            "display_name": "Python 3.8.10 64-bit ('ml': venv)"
        },
        "interpreter": {
            "hash": "3c8a40abf24bfdc687a2d85f418eae1223b64348b660bbd412cdd29d932d90a8"
        }
    },
    "nbformat": 4,
    "nbformat_minor": 2
}