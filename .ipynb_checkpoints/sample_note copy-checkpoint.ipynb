{
 "cells": [
  {
   "cell_type": "code",
   "execution_count": 2,
   "metadata": {},
   "outputs": [],
   "source": [
    "#Import neccessary packages\n",
    "import pandas as pd\n",
    "import numpy as np\n",
    "import matplotlib.pyplot as plt\n",
    "import lazypredict\n",
    "from sklearn.model_selection import train_test_split"
   ]
  },
  {
   "cell_type": "code",
   "execution_count": 3,
   "metadata": {},
   "outputs": [],
   "source": [
    "df = pd.read_csv(\"Dataset/web_attacks_balanced.csv\")"
   ]
  },
  {
   "cell_type": "code",
   "execution_count": 4,
   "metadata": {},
   "outputs": [],
   "source": [
    "excluded = ['Flow ID', 'Source IP', 'Source Port', 'Destination IP', 'Destination Port', 'Protocol']\n",
    "df = df.drop(columns=excluded, errors='ignore')"
   ]
  },
  {
   "cell_type": "code",
   "execution_count": 5,
   "metadata": {},
   "outputs": [],
   "source": [
    "webattack_features = ['Average Packet Size',\n",
    " 'Bwd Packet Length Std',\n",
    " 'Avg Bwd Segment Size',\n",
    " 'Bwd Packet Length Mean',\n",
    " 'Total Length of Fwd Packets',\n",
    " 'Fwd Packet Length Mean',\n",
    " 'Packet Length Variance',\n",
    " 'Bwd Packet Length Max',\n",
    " 'Min Packet Length',\n",
    " 'Fwd Packet Length Max']"
   ]
  },
  {
   "cell_type": "code",
   "execution_count": 6,
   "metadata": {},
   "outputs": [
    {
     "data": {
      "text/plain": [
       "1    2000\n",
       "0    2000\n",
       "Name: Label, dtype: int64"
      ]
     },
     "execution_count": 6,
     "metadata": {},
     "output_type": "execute_result"
    }
   ],
   "source": [
    "df_pos = df[df[\"Label\"]== 1]\n",
    "df_neg = df[df[\"Label\"]== 0]\n",
    "\n",
    "df_sample = pd.concat([df_pos.head(2000), df_neg.head(2000)])\n",
    "df_sample[\"Label\"].value_counts()"
   ]
  },
  {
   "cell_type": "code",
   "execution_count": 7,
   "metadata": {},
   "outputs": [
    {
     "name": "stdout",
     "output_type": "stream",
     "text": [
      "(4000, 10) (4000,)\n"
     ]
    }
   ],
   "source": [
    "y = df_sample['Label'].values\n",
    "X = df_sample[webattack_features]\n",
    "print(X.shape, y.shape)"
   ]
  },
  {
   "cell_type": "code",
   "execution_count": 8,
   "metadata": {},
   "outputs": [
    {
     "name": "stdout",
     "output_type": "stream",
     "text": [
      "(2800, 10) (2800,)\n",
      "(1200, 10) (1200,)\n"
     ]
    }
   ],
   "source": [
    "X_train, X_test, y_train, y_test = train_test_split(X, y, test_size=0.3, random_state=42)\n",
    "print(X_train.shape, y_train.shape)\n",
    "print(X_test.shape, y_test.shape)"
   ]
  },
  {
   "cell_type": "code",
   "execution_count": 9,
   "metadata": {},
   "outputs": [],
   "source": [
    "#import pyforest\n",
    "import warnings\n",
    "warnings.filterwarnings(\"ignore\")\n",
    "from sklearn import metrics\n",
    "from sklearn.metrics import accuracy_score\n",
    "import lazypredict\n",
    "from lazypredict.Supervised import LazyClassifier"
   ]
  },
  {
   "cell_type": "code",
   "execution_count": 10,
   "metadata": {},
   "outputs": [
    {
     "name": "stderr",
     "output_type": "stream",
     "text": [
      "  3%|█▌                                          | 1/29 [00:00<00:03,  8.80it/s]"
     ]
    },
    {
     "name": "stdout",
     "output_type": "stream",
     "text": [
      "{'Model': 'AdaBoostClassifier', 'Accuracy': 0.9758333333333333, 'Balanced Accuracy': 0.9750358815741162, 'ROC AUC': 0.9750358815741164, 'F1 Score': 0.9758042876482593, 'Time taken': 0.11358022689819336}\n",
      "{'Model': 'BaggingClassifier', 'Accuracy': 0.9766666666666667, 'Balanced Accuracy': 0.9759009334772305, 'ROC AUC': 0.9759009334772305, 'F1 Score': 0.9766401370326195, 'Time taken': 0.03217339515686035}\n",
      "{'Model': 'BernoulliNB', 'Accuracy': 0.9191666666666667, 'Balanced Accuracy': 0.9162735455445654, 'ROC AUC': 0.9162735455445654, 'F1 Score': 0.9184682175449704, 'Time taken': 0.011793851852416992}\n"
     ]
    },
    {
     "name": "stderr",
     "output_type": "stream",
     "text": [
      " 31%|█████████████▋                              | 9/29 [00:00<00:01, 17.20it/s]"
     ]
    },
    {
     "name": "stdout",
     "output_type": "stream",
     "text": [
      "{'Model': 'CalibratedClassifierCV', 'Accuracy': 0.9208333333333333, 'Balanced Accuracy': 0.91794245596858, 'ROC AUC': 0.9179424559685799, 'F1 Score': 0.9201492852244553, 'Time taken': 0.23276329040527344}\n",
      "{'Model': 'DecisionTreeClassifier', 'Accuracy': 0.9766666666666667, 'Balanced Accuracy': 0.9759009334772305, 'ROC AUC': 0.9759009334772305, 'F1 Score': 0.9766401370326195, 'Time taken': 0.016128063201904297}\n",
      "{'Model': 'DummyClassifier', 'Accuracy': 0.49083333333333334, 'Balanced Accuracy': 0.4907903959768133, 'ROC AUC': 0.49079039597681323, 'F1 Score': 0.4910041790815283, 'Time taken': 0.013965129852294922}\n",
      "{'Model': 'ExtraTreeClassifier', 'Accuracy': 0.975, 'Balanced Accuracy': 0.974232023053216, 'ROC AUC': 0.9742320230532159, 'F1 Score': 0.9749715753920924, 'Time taken': 0.013837575912475586}\n",
      "{'Model': 'ExtraTreesClassifier', 'Accuracy': 0.9766666666666667, 'Balanced Accuracy': 0.9758397400950166, 'ROC AUC': 0.9758397400950167, 'F1 Score': 0.9766370752328525, 'Time taken': 0.13277173042297363}\n",
      "{'Model': 'GaussianNB', 'Accuracy': 0.9191666666666667, 'Balanced Accuracy': 0.9162123521623516, 'ROC AUC': 0.9162123521623516, 'F1 Score': 0.9184420149386926, 'Time taken': 0.012586832046508789}\n",
      "{'Model': 'KNeighborsClassifier', 'Accuracy': 0.975, 'Balanced Accuracy': 0.9741096362887882, 'ROC AUC': 0.9741096362887883, 'F1 Score': 0.9749648735447609, 'Time taken': 0.04601931571960449}\n"
     ]
    },
    {
     "name": "stderr",
     "output_type": "stream",
     "text": [
      "\r",
      " 41%|█████████████████▊                         | 12/29 [00:00<00:01, 13.51it/s]"
     ]
    },
    {
     "name": "stdout",
     "output_type": "stream",
     "text": [
      "{'Model': 'LabelPropagation', 'Accuracy': 0.9258333333333333, 'Balanced Accuracy': 0.9230715740050512, 'ROC AUC': 0.9230715740050514, 'F1 Score': 0.9252392552261127, 'Time taken': 0.24705243110656738}\n"
     ]
    },
    {
     "name": "stderr",
     "output_type": "stream",
     "text": [
      "\r",
      " 48%|████████████████████▊                      | 14/29 [00:01<00:01,  9.35it/s]"
     ]
    },
    {
     "name": "stdout",
     "output_type": "stream",
     "text": [
      "{'Model': 'LabelSpreading', 'Accuracy': 0.9241666666666667, 'Balanced Accuracy': 0.9213414701988228, 'ROC AUC': 0.921341470198823, 'F1 Score': 0.92353555352287, 'Time taken': 0.3633847236633301}\n",
      "{'Model': 'LinearDiscriminantAnalysis', 'Accuracy': 0.7891666666666667, 'Balanced Accuracy': 0.7812030618943246, 'ROC AUC': 0.7812030618943245, 'F1 Score': 0.7776282759597676, 'Time taken': 0.03756880760192871}\n",
      "{'Model': 'LinearSVC', 'Accuracy': 0.92, 'Balanced Accuracy': 0.9170774040654658, 'ROC AUC': 0.9170774040654657, 'F1 Score': 0.9192958444014229, 'Time taken': 0.13761353492736816}\n"
     ]
    },
    {
     "name": "stderr",
     "output_type": "stream",
     "text": [
      "\r",
      " 55%|███████████████████████▋                   | 16/29 [00:01<00:01,  9.76it/s]"
     ]
    },
    {
     "name": "stdout",
     "output_type": "stream",
     "text": [
      "{'Model': 'LogisticRegression', 'Accuracy': 0.9216666666666666, 'Balanced Accuracy': 0.9188075078716942, 'ROC AUC': 0.9188075078716942, 'F1 Score': 0.9210023412308855, 'Time taken': 0.04102897644042969}\n",
      "{'Model': 'NearestCentroid', 'Accuracy': 0.7308333333333333, 'Balanced Accuracy': 0.7207106220585454, 'ROC AUC': 0.7207106220585454, 'F1 Score': 0.7070082653598638, 'Time taken': 0.014908075332641602}\n"
     ]
    },
    {
     "name": "stderr",
     "output_type": "stream",
     "text": [
      "\r",
      " 62%|██████████████████████████▋                | 18/29 [00:01<00:01,  9.58it/s]"
     ]
    },
    {
     "name": "stdout",
     "output_type": "stream",
     "text": [
      "{'Model': 'NuSVC', 'Accuracy': 0.7933333333333333, 'Balanced Accuracy': 0.7855895147921095, 'ROC AUC': 0.7855895147921093, 'F1 Score': 0.7826315789473685, 'Time taken': 0.20344138145446777}\n",
      "{'Model': 'PassiveAggressiveClassifier', 'Accuracy': 0.9216666666666666, 'Balanced Accuracy': 0.9188075078716942, 'ROC AUC': 0.9188075078716942, 'F1 Score': 0.9210023412308855, 'Time taken': 0.017626523971557617}\n",
      "{'Model': 'Perceptron', 'Accuracy': 0.6166666666666667, 'Balanced Accuracy': 0.6301638870036382, 'ROC AUC': 0.6301638870036382, 'F1 Score': 0.5593717188342462, 'Time taken': 0.012264728546142578}\n",
      "{'Model': 'QuadraticDiscriminantAnalysis', 'Accuracy': 0.9516666666666667, 'Balanced Accuracy': 0.9502553432948742, 'ROC AUC': 0.9502553432948742, 'F1 Score': 0.9515360010128543, 'Time taken': 0.014942169189453125}\n"
     ]
    },
    {
     "name": "stderr",
     "output_type": "stream",
     "text": [
      " 86%|█████████████████████████████████████      | 25/29 [00:02<00:00, 14.47it/s]"
     ]
    },
    {
     "name": "stdout",
     "output_type": "stream",
     "text": [
      "{'Model': 'RandomForestClassifier', 'Accuracy': 0.9758333333333333, 'Balanced Accuracy': 0.9750358815741162, 'ROC AUC': 0.9750358815741164, 'F1 Score': 0.9758042876482593, 'Time taken': 0.20082354545593262}\n",
      "{'Model': 'RidgeClassifier', 'Accuracy': 0.7891666666666667, 'Balanced Accuracy': 0.7812030618943246, 'ROC AUC': 0.7812030618943245, 'F1 Score': 0.7776282759597676, 'Time taken': 0.023480892181396484}\n",
      "{'Model': 'RidgeClassifierCV', 'Accuracy': 0.7891666666666667, 'Balanced Accuracy': 0.7812030618943246, 'ROC AUC': 0.7812030618943245, 'F1 Score': 0.7776282759597676, 'Time taken': 0.038402557373046875}\n",
      "{'Model': 'SGDClassifier', 'Accuracy': 0.9275, 'Balanced Accuracy': 0.9248628711934934, 'ROC AUC': 0.9248628711934934, 'F1 Score': 0.9269632782745066, 'Time taken': 0.04059100151062012}\n"
     ]
    },
    {
     "name": "stderr",
     "output_type": "stream",
     "text": [
      "\r",
      " 93%|████████████████████████████████████████   | 27/29 [00:02<00:00, 14.66it/s]"
     ]
    },
    {
     "name": "stdout",
     "output_type": "stream",
     "text": [
      "{'Model': 'SVC', 'Accuracy': 0.925, 'Balanced Accuracy': 0.922267715484151, 'ROC AUC': 0.9222677154841509, 'F1 Score': 0.9244107933384865, 'Time taken': 0.1263418197631836}\n"
     ]
    },
    {
     "name": "stderr",
     "output_type": "stream",
     "text": [
      "100%|███████████████████████████████████████████| 29/29 [00:02<00:00, 11.62it/s]"
     ]
    },
    {
     "name": "stdout",
     "output_type": "stream",
     "text": [
      "{'Model': 'XGBClassifier', 'Accuracy': 0.9775, 'Balanced Accuracy': 0.9767047919981309, 'ROC AUC': 0.9767047919981309, 'F1 Score': 0.9774729574656207, 'Time taken': 0.24960899353027344}\n",
      "{'Model': 'LGBMClassifier', 'Accuracy': 0.9766666666666667, 'Balanced Accuracy': 0.9759009334772305, 'ROC AUC': 0.9759009334772305, 'F1 Score': 0.9766401370326195, 'Time taken': 0.07107710838317871}\n"
     ]
    },
    {
     "name": "stderr",
     "output_type": "stream",
     "text": [
      "\n"
     ]
    }
   ],
   "source": [
    "clf = LazyClassifier(verbose=1, ignore_warnings=True, custom_metric = None)\n",
    "models, predictions = clf.fit(X_train, X_test, y_train, y_test)\n"
   ]
  },
  {
   "cell_type": "code",
   "execution_count": 13,
   "metadata": {},
   "outputs": [],
   "source": [
    "models[\"A/time\"] = models[\"Accuracy\"] / models[\"Time Taken\"]"
   ]
  },
  {
   "cell_type": "code",
   "execution_count": 15,
   "metadata": {
    "scrolled": true
   },
   "outputs": [],
   "source": [
    "models.to_csv(\"models_perf.csv\")"
   ]
  },
  {
   "cell_type": "markdown",
   "metadata": {},
   "source": [
    "# MODEL TRAINING"
   ]
  },
  {
   "cell_type": "markdown",
   "metadata": {},
   "source": [
    "## Pre-Analysis"
   ]
  },
  {
   "cell_type": "code",
   "execution_count": 16,
   "metadata": {},
   "outputs": [
    {
     "name": "stdout",
     "output_type": "stream",
     "text": [
      "(1204915, 10) (1204915,)\n"
     ]
    }
   ],
   "source": [
    "y = df['Label'].values\n",
    "X = df[webattack_features]\n",
    "print(X.shape, y.shape)"
   ]
  },
  {
   "cell_type": "code",
   "execution_count": 17,
   "metadata": {},
   "outputs": [
    {
     "name": "stdout",
     "output_type": "stream",
     "text": [
      "(843440, 10) (843440,)\n",
      "(361475, 10) (361475,)\n"
     ]
    }
   ],
   "source": [
    "X_train, X_test, y_train, y_test = train_test_split(X, y, test_size=0.3, random_state=42)\n",
    "print(X_train.shape, y_train.shape)\n",
    "print(X_test.shape, y_test.shape)"
   ]
  },
  {
   "cell_type": "code",
   "execution_count": 58,
   "metadata": {},
   "outputs": [],
   "source": [
    "classifier_accuracy = {\"classifier\":[], \"accuracy\":[], \"pre_recall_f1_score\":[],\"time_taken\":[]}"
   ]
  },
  {
   "cell_type": "markdown",
   "metadata": {},
   "source": [
    "### DECISION TREE CLASSIFIER"
   ]
  },
  {
   "cell_type": "code",
   "execution_count": 59,
   "metadata": {},
   "outputs": [],
   "source": [
    "from sklearn.model_selection import cross_val_score\n",
    "from sklearn.tree import DecisionTreeClassifier\n",
    "from sklearn import tree\n",
    "\n"
   ]
  },
  {
   "cell_type": "code",
   "execution_count": 60,
   "metadata": {},
   "outputs": [],
   "source": [
    "clf = DecisionTreeClassifier(max_depth=8)"
   ]
  },
  {
   "cell_type": "code",
   "execution_count": 61,
   "metadata": {},
   "outputs": [
    {
     "name": "stdout",
     "output_type": "stream",
     "text": [
      "1.9237070083618164\n",
      "Accuracy:  0.9496590358945985\n"
     ]
    }
   ],
   "source": [
    "#Predict the response for test dataset\n",
    "\n",
    "from time import time\n",
    "t0 = time()\n",
    "clf.fit(X_train, y_train)\n",
    "time_taken = time() - t0\n",
    "print(time_taken)\n",
    "print(\"Accuracy: \", metrics.accuracy_score(y_test, y_pred))\n",
    "\n",
    "y_pred = clf.predict(X_test)\n",
    "classifier_accuracy[\"accuracy\"].append(metrics.accuracy_score(y_test, y_pred))\n",
    "classifier_accuracy[\"pre_recall_f1_score\"].append(metrics.precision_recall_fscore_support(y_test, y_pred, average='macro'))\n",
    "classifier_accuracy[\"classifier\"].append(\"Decision Tree\")\n",
    "classifier_accuracy[\"time_taken\"].append(time_taken)"
   ]
  },
  {
   "cell_type": "code",
   "execution_count": 62,
   "metadata": {},
   "outputs": [
    {
     "data": {
      "text/plain": [
       "[Text(215.85588503649635, 205.35999999999999, 'X[1] <= 1495.595\\ngini = 0.495\\nsamples = 843440\\nvalue = [465685, 377755]'),\n",
       " Text(133.11049270072994, 181.2, 'X[0] <= 7.694\\ngini = 0.427\\nsamples = 673475\\nvalue = [465087, 208388]'),\n",
       " Text(54.5271897810219, 157.04, 'X[0] <= 2.909\\ngini = 0.362\\nsamples = 265811\\nvalue = [62993, 202818]'),\n",
       " Text(29.936496350364965, 132.88, 'X[6] <= 8.486\\ngini = 0.492\\nsamples = 93867\\nvalue = [40847, 53020]'),\n",
       " Text(15.884671532846715, 108.72, 'X[9] <= 5.5\\ngini = 0.49\\nsamples = 92597\\nvalue = [39759, 52838]'),\n",
       " Text(9.775182481751825, 84.56, 'X[7] <= 1.0\\ngini = 0.492\\nsamples = 91259\\nvalue = [39735, 51524]'),\n",
       " Text(7.331386861313868, 60.400000000000006, 'X[0] <= 2.083\\ngini = 0.492\\nsamples = 91225\\nvalue = [39701, 51524]'),\n",
       " Text(4.887591240875913, 36.24000000000001, 'X[9] <= 0.5\\ngini = 0.492\\nsamples = 91218\\nvalue = [39701, 51517]'),\n",
       " Text(2.4437956204379563, 12.079999999999984, 'gini = 0.492\\nsamples = 91215\\nvalue = [39698, 51517]'),\n",
       " Text(7.331386861313868, 12.079999999999984, 'gini = 0.0\\nsamples = 3\\nvalue = [3, 0]'),\n",
       " Text(9.775182481751825, 36.24000000000001, 'gini = 0.0\\nsamples = 7\\nvalue = [0, 7]'),\n",
       " Text(12.218978102189782, 60.400000000000006, 'gini = 0.0\\nsamples = 34\\nvalue = [34, 0]'),\n",
       " Text(21.994160583941607, 84.56, 'X[5] <= 1.857\\ngini = 0.035\\nsamples = 1338\\nvalue = [24, 1314]'),\n",
       " Text(17.106569343065694, 60.400000000000006, 'X[6] <= 7.927\\ngini = 0.011\\nsamples = 1315\\nvalue = [7, 1308]'),\n",
       " Text(14.662773722627737, 36.24000000000001, 'X[5] <= 1.607\\ngini = 0.006\\nsamples = 1312\\nvalue = [4, 1308]'),\n",
       " Text(12.218978102189782, 12.079999999999984, 'gini = 0.005\\nsamples = 1289\\nvalue = [3, 1286]'),\n",
       " Text(17.106569343065694, 12.079999999999984, 'gini = 0.083\\nsamples = 23\\nvalue = [1, 22]'),\n",
       " Text(19.55036496350365, 36.24000000000001, 'gini = 0.0\\nsamples = 3\\nvalue = [3, 0]'),\n",
       " Text(26.88175182481752, 60.400000000000006, 'X[6] <= 8.2\\ngini = 0.386\\nsamples = 23\\nvalue = [17, 6]'),\n",
       " Text(24.437956204379564, 36.24000000000001, 'gini = 0.0\\nsamples = 17\\nvalue = [17, 0]'),\n",
       " Text(29.325547445255474, 36.24000000000001, 'gini = 0.0\\nsamples = 6\\nvalue = [0, 6]'),\n",
       " Text(43.988321167883214, 108.72, 'X[4] <= 11.5\\ngini = 0.246\\nsamples = 1270\\nvalue = [1088, 182]'),\n",
       " Text(39.1007299270073, 84.56, 'X[3] <= 8.6\\ngini = 0.006\\nsamples = 690\\nvalue = [688, 2]'),\n",
       " Text(36.65693430656935, 60.400000000000006, 'X[7] <= 3.0\\ngini = 0.003\\nsamples = 689\\nvalue = [688, 1]'),\n",
       " Text(34.21313868613139, 36.24000000000001, 'X[5] <= 2.5\\ngini = 0.022\\nsamples = 88\\nvalue = [87, 1]'),\n",
       " Text(31.76934306569343, 12.079999999999984, 'gini = 0.124\\nsamples = 15\\nvalue = [14, 1]'),\n",
       " Text(36.65693430656935, 12.079999999999984, 'gini = 0.0\\nsamples = 73\\nvalue = [73, 0]'),\n",
       " Text(39.1007299270073, 36.24000000000001, 'gini = 0.0\\nsamples = 601\\nvalue = [601, 0]'),\n",
       " Text(41.544525547445254, 60.400000000000006, 'gini = 0.0\\nsamples = 1\\nvalue = [0, 1]'),\n",
       " Text(48.87591240875913, 84.56, 'X[5] <= 2.577\\ngini = 0.428\\nsamples = 580\\nvalue = [400, 180]'),\n",
       " Text(46.43211678832117, 60.400000000000006, 'X[6] <= 24.041\\ngini = 0.142\\nsamples = 195\\nvalue = [15, 180]'),\n",
       " Text(43.988321167883214, 36.24000000000001, 'X[6] <= 8.786\\ngini = 0.022\\nsamples = 182\\nvalue = [2, 180]'),\n",
       " Text(41.544525547445254, 12.079999999999984, 'gini = 0.095\\nsamples = 40\\nvalue = [2, 38]'),\n",
       " Text(46.43211678832117, 12.079999999999984, 'gini = 0.0\\nsamples = 142\\nvalue = [0, 142]'),\n",
       " Text(48.87591240875913, 36.24000000000001, 'gini = 0.0\\nsamples = 13\\nvalue = [13, 0]'),\n",
       " Text(51.31970802919708, 60.400000000000006, 'gini = 0.0\\nsamples = 385\\nvalue = [385, 0]'),\n",
       " Text(79.11788321167883, 132.88, 'X[9] <= 3.0\\ngini = 0.224\\nsamples = 171944\\nvalue = [22146, 149798]'),\n",
       " Text(58.65109489051095, 108.72, 'X[2] <= 5.5\\ngini = 0.034\\nsamples = 112289\\nvalue = [1924, 110365]'),\n",
       " Text(56.207299270072994, 84.56, 'gini = 0.0\\nsamples = 37\\nvalue = [37, 0]'),\n",
       " Text(61.09489051094891, 84.56, 'X[9] <= 1.0\\ngini = 0.033\\nsamples = 112252\\nvalue = [1887, 110365]'),\n",
       " Text(58.65109489051095, 60.400000000000006, 'X[6] <= 11.4\\ngini = 0.063\\nsamples = 57543\\nvalue = [1887, 55656]'),\n",
       " Text(53.76350364963504, 36.24000000000001, 'X[6] <= 10.543\\ngini = 0.162\\nsamples = 1673\\nvalue = [1524, 149]'),\n",
       " Text(51.31970802919708, 12.079999999999984, 'gini = 0.0\\nsamples = 854\\nvalue = [854, 0]'),\n",
       " Text(56.207299270072994, 12.079999999999984, 'gini = 0.298\\nsamples = 819\\nvalue = [670, 149]'),\n",
       " Text(63.53868613138686, 36.24000000000001, 'X[0] <= 3.389\\ngini = 0.013\\nsamples = 55870\\nvalue = [363, 55507]'),\n",
       " Text(61.09489051094891, 12.079999999999984, 'gini = 0.008\\nsamples = 55712\\nvalue = [222, 55490]'),\n",
       " Text(65.98248175182482, 12.079999999999984, 'gini = 0.192\\nsamples = 158\\nvalue = [141, 17]'),\n",
       " Text(63.53868613138686, 60.400000000000006, 'gini = 0.0\\nsamples = 54709\\nvalue = [0, 54709]'),\n",
       " Text(99.58467153284671, 108.72, 'X[4] <= 14.0\\ngini = 0.448\\nsamples = 59655\\nvalue = [20222, 39433]'),\n",
       " Text(81.86715328467153, 84.56, 'X[4] <= 6.5\\ngini = 0.313\\nsamples = 23141\\nvalue = [18638, 4503]'),\n",
       " Text(75.75766423357665, 60.400000000000006, 'X[0] <= 7.583\\ngini = 0.01\\nsamples = 11965\\nvalue = [11906, 59]'),\n",
       " Text(73.3138686131387, 36.24000000000001, 'X[3] <= 0.75\\ngini = 0.006\\nsamples = 11939\\nvalue = [11906, 33]'),\n",
       " Text(70.87007299270073, 12.079999999999984, 'gini = 0.065\\nsamples = 885\\nvalue = [855, 30]'),\n",
       " Text(75.75766423357665, 12.079999999999984, 'gini = 0.001\\nsamples = 11054\\nvalue = [11051, 3]'),\n",
       " Text(78.2014598540146, 36.24000000000001, 'gini = 0.0\\nsamples = 26\\nvalue = [0, 26]'),\n",
       " Text(87.97664233576643, 60.400000000000006, 'X[0] <= 3.55\\ngini = 0.479\\nsamples = 11176\\nvalue = [6732, 4444]'),\n",
       " Text(83.08905109489051, 36.24000000000001, 'X[5] <= 3.5\\ngini = 0.003\\nsamples = 5862\\nvalue = [5852, 10]'),\n",
       " Text(80.64525547445255, 12.079999999999984, 'gini = 0.32\\nsamples = 45\\nvalue = [36, 9]'),\n",
       " Text(85.53284671532847, 12.079999999999984, 'gini = 0.0\\nsamples = 5817\\nvalue = [5816, 1]'),\n",
       " Text(92.86423357664233, 36.24000000000001, 'X[9] <= 10.5\\ngini = 0.276\\nsamples = 5314\\nvalue = [880, 4434]'),\n",
       " Text(90.42043795620438, 12.079999999999984, 'gini = 0.197\\nsamples = 4963\\nvalue = [549, 4414]'),\n",
       " Text(95.3080291970803, 12.079999999999984, 'gini = 0.107\\nsamples = 351\\nvalue = [331, 20]'),\n",
       " Text(117.3021897810219, 84.56, 'X[0] <= 5.975\\ngini = 0.083\\nsamples = 36514\\nvalue = [1584, 34930]'),\n",
       " Text(107.52700729927008, 60.400000000000006, 'X[5] <= 4.393\\ngini = 0.315\\nsamples = 878\\nvalue = [706, 172]'),\n",
       " Text(102.63941605839416, 36.24000000000001, 'X[7] <= 3.0\\ngini = 0.022\\nsamples = 91\\nvalue = [1, 90]'),\n",
       " Text(100.19562043795621, 12.079999999999984, 'gini = 0.0\\nsamples = 90\\nvalue = [0, 90]'),\n",
       " Text(105.08321167883211, 12.079999999999984, 'gini = 0.0\\nsamples = 1\\nvalue = [1, 0]'),\n",
       " Text(112.41459854014599, 36.24000000000001, 'X[4] <= 21.0\\ngini = 0.187\\nsamples = 787\\nvalue = [705, 82]'),\n",
       " Text(109.97080291970804, 12.079999999999984, 'gini = 0.458\\nsamples = 225\\nvalue = [145, 80]'),\n",
       " Text(114.85839416058394, 12.079999999999984, 'gini = 0.007\\nsamples = 562\\nvalue = [560, 2]'),\n",
       " Text(127.07737226277372, 60.400000000000006, 'X[2] <= 5.75\\ngini = 0.048\\nsamples = 35636\\nvalue = [878, 34758]'),\n",
       " Text(122.18978102189782, 36.24000000000001, 'X[4] <= 36.5\\ngini = 0.024\\nsamples = 35163\\nvalue = [424, 34739]'),\n",
       " Text(119.74598540145986, 12.079999999999984, 'gini = 0.019\\nsamples = 35071\\nvalue = [334, 34737]'),\n",
       " Text(124.63357664233577, 12.079999999999984, 'gini = 0.043\\nsamples = 92\\nvalue = [90, 2]'),\n",
       " Text(131.96496350364964, 36.24000000000001, 'X[0] <= 7.486\\ngini = 0.077\\nsamples = 473\\nvalue = [454, 19]'),\n",
       " Text(129.5211678832117, 12.079999999999984, 'gini = 0.03\\nsamples = 194\\nvalue = [191, 3]'),\n",
       " Text(134.4087591240876, 12.079999999999984, 'gini = 0.108\\nsamples = 279\\nvalue = [263, 16]'),\n",
       " Text(211.69379562043795, 157.04, 'X[1] <= 1298.616\\ngini = 0.027\\nsamples = 407664\\nvalue = [402094, 5570]'),\n",
       " Text(179.0080291970803, 132.88, 'X[2] <= 2.167\\ngini = 0.023\\nsamples = 406259\\nvalue = [401476, 4783]'),\n",
       " Text(157.0138686131387, 108.72, 'X[9] <= 230.5\\ngini = 0.127\\nsamples = 52731\\nvalue = [49130, 3601]'),\n",
       " Text(144.1839416058394, 84.56, 'X[4] <= 10.0\\ngini = 0.03\\nsamples = 46820\\nvalue = [46099, 721]'),\n",
       " Text(141.74014598540145, 60.400000000000006, 'gini = 0.0\\nsamples = 374\\nvalue = [0, 374]'),\n",
       " Text(146.6277372262774, 60.400000000000006, 'X[0] <= 275.25\\ngini = 0.015\\nsamples = 46446\\nvalue = [46099, 347]'),\n",
       " Text(141.74014598540145, 36.24000000000001, 'X[0] <= 8.69\\ngini = 0.013\\nsamples = 46391\\nvalue = [46098, 293]'),\n",
       " Text(139.2963503649635, 12.079999999999984, 'gini = 0.14\\nsamples = 1460\\nvalue = [1349, 111]'),\n",
       " Text(144.1839416058394, 12.079999999999984, 'gini = 0.008\\nsamples = 44931\\nvalue = [44749, 182]'),\n",
       " Text(151.5153284671533, 36.24000000000001, 'X[0] <= 291.0\\ngini = 0.036\\nsamples = 55\\nvalue = [1, 54]'),\n",
       " Text(149.07153284671534, 12.079999999999984, 'gini = 0.0\\nsamples = 54\\nvalue = [0, 54]'),\n",
       " Text(153.95912408759125, 12.079999999999984, 'gini = 0.0\\nsamples = 1\\nvalue = [1, 0]'),\n",
       " Text(169.84379562043796, 84.56, 'X[0] <= 228.235\\ngini = 0.5\\nsamples = 5911\\nvalue = [3031, 2880]'),\n",
       " Text(163.73430656934306, 60.400000000000006, 'X[8] <= 3.0\\ngini = 0.302\\nsamples = 2984\\nvalue = [554, 2430]'),\n",
       " Text(161.2905109489051, 36.24000000000001, 'X[6] <= 36010.557\\ngini = 0.187\\nsamples = 2713\\nvalue = [283, 2430]'),\n",
       " Text(158.84671532846716, 12.079999999999984, 'gini = 0.051\\nsamples = 2483\\nvalue = [65, 2418]'),\n",
       " Text(163.73430656934306, 12.079999999999984, 'gini = 0.099\\nsamples = 230\\nvalue = [218, 12]'),\n",
       " Text(166.17810218978101, 36.24000000000001, 'gini = 0.0\\nsamples = 271\\nvalue = [271, 0]'),\n",
       " Text(175.95328467153286, 60.400000000000006, 'X[5] <= 1982.429\\ngini = 0.26\\nsamples = 2927\\nvalue = [2477, 450]'),\n",
       " Text(171.06569343065695, 36.24000000000001, 'X[8] <= 315.0\\ngini = 0.201\\nsamples = 2786\\nvalue = [2471, 315]'),\n",
       " Text(168.621897810219, 12.079999999999984, 'gini = 0.103\\nsamples = 2524\\nvalue = [2386, 138]'),\n",
       " Text(173.5094890510949, 12.079999999999984, 'gini = 0.438\\nsamples = 262\\nvalue = [85, 177]'),\n",
       " Text(180.84087591240876, 36.24000000000001, 'X[9] <= 2024.0\\ngini = 0.081\\nsamples = 141\\nvalue = [6, 135]'),\n",
       " Text(178.3970802919708, 12.079999999999984, 'gini = 0.0\\nsamples = 135\\nvalue = [0, 135]'),\n",
       " Text(183.28467153284672, 12.079999999999984, 'gini = 0.0\\nsamples = 6\\nvalue = [6, 0]'),\n",
       " Text(201.0021897810219, 108.72, 'X[5] <= 0.091\\ngini = 0.007\\nsamples = 353528\\nvalue = [352346, 1182]'),\n",
       " Text(190.6160583941606, 84.56, 'X[1] <= 324.41\\ngini = 0.486\\nsamples = 476\\nvalue = [278, 198]'),\n",
       " Text(188.17226277372262, 60.400000000000006, 'gini = 0.0\\nsamples = 237\\nvalue = [237, 0]'),\n",
       " Text(193.05985401459856, 60.400000000000006, 'X[2] <= 674.667\\ngini = 0.284\\nsamples = 239\\nvalue = [41, 198]'),\n",
       " Text(190.6160583941606, 36.24000000000001, 'X[2] <= 594.167\\ngini = 0.01\\nsamples = 199\\nvalue = [1, 198]'),\n",
       " Text(188.17226277372262, 12.079999999999984, 'gini = 0.027\\nsamples = 73\\nvalue = [1, 72]'),\n",
       " Text(193.05985401459856, 12.079999999999984, 'gini = 0.0\\nsamples = 126\\nvalue = [0, 126]'),\n",
       " Text(195.5036496350365, 36.24000000000001, 'gini = 0.0\\nsamples = 40\\nvalue = [40, 0]'),\n",
       " Text(211.38832116788322, 84.56, 'X[1] <= 990.643\\ngini = 0.006\\nsamples = 353052\\nvalue = [352068, 984]'),\n",
       " Text(205.27883211678832, 60.400000000000006, 'X[5] <= 147.489\\ngini = 0.003\\nsamples = 345598\\nvalue = [345074, 524]'),\n",
       " Text(200.39124087591242, 36.24000000000001, 'X[3] <= 1374.971\\ngini = 0.001\\nsamples = 311651\\nvalue = [311514, 137]'),\n",
       " Text(197.94744525547446, 12.079999999999984, 'gini = 0.001\\nsamples = 307669\\nvalue = [307568, 101]'),\n",
       " Text(202.83503649635037, 12.079999999999984, 'gini = 0.018\\nsamples = 3982\\nvalue = [3946, 36]'),\n",
       " Text(210.16642335766423, 36.24000000000001, 'X[4] <= 537.5\\ngini = 0.023\\nsamples = 33947\\nvalue = [33560, 387]'),\n",
       " Text(207.72262773722628, 12.079999999999984, 'gini = 0.323\\nsamples = 1509\\nvalue = [1203, 306]'),\n",
       " Text(212.6102189781022, 12.079999999999984, 'gini = 0.005\\nsamples = 32438\\nvalue = [32357, 81]'),\n",
       " Text(217.49781021897812, 60.400000000000006, 'X[1] <= 990.661\\ngini = 0.116\\nsamples = 7454\\nvalue = [6994, 460]'),\n",
       " Text(215.05401459854016, 36.24000000000001, 'gini = 0.0\\nsamples = 354\\nvalue = [0, 354]'),\n",
       " Text(219.94160583941607, 36.24000000000001, 'X[4] <= 80.0\\ngini = 0.029\\nsamples = 7100\\nvalue = [6994, 106]'),\n",
       " Text(217.49781021897812, 12.079999999999984, 'gini = 0.238\\nsamples = 58\\nvalue = [8, 50]'),\n",
       " Text(222.38540145985402, 12.079999999999984, 'gini = 0.016\\nsamples = 7042\\nvalue = [6986, 56]'),\n",
       " Text(244.37956204379563, 132.88, 'X[0] <= 654.982\\ngini = 0.493\\nsamples = 1405\\nvalue = [618, 787]'),\n",
       " Text(229.71678832116788, 108.72, 'X[5] <= 4.5\\ngini = 0.04\\nsamples = 487\\nvalue = [477, 10]'),\n",
       " Text(227.27299270072993, 84.56, 'gini = 0.0\\nsamples = 2\\nvalue = [0, 2]'),\n",
       " Text(232.16058394160584, 84.56, 'X[3] <= 1280.292\\ngini = 0.032\\nsamples = 485\\nvalue = [477, 8]'),\n",
       " Text(227.27299270072993, 60.400000000000006, 'X[5] <= 74.514\\ngini = 0.009\\nsamples = 466\\nvalue = [464, 2]'),\n",
       " Text(224.82919708029198, 36.24000000000001, 'gini = 0.0\\nsamples = 336\\nvalue = [336, 0]'),\n",
       " Text(229.71678832116788, 36.24000000000001, 'X[4] <= 381.0\\ngini = 0.03\\nsamples = 130\\nvalue = [128, 2]'),\n",
       " Text(227.27299270072993, 12.079999999999984, 'gini = 0.0\\nsamples = 1\\nvalue = [0, 1]'),\n",
       " Text(232.16058394160584, 12.079999999999984, 'gini = 0.015\\nsamples = 129\\nvalue = [128, 1]'),\n",
       " Text(237.04817518248177, 60.400000000000006, 'X[4] <= 1200.5\\ngini = 0.432\\nsamples = 19\\nvalue = [13, 6]'),\n",
       " Text(234.6043795620438, 36.24000000000001, 'gini = 0.0\\nsamples = 13\\nvalue = [13, 0]'),\n",
       " Text(239.49197080291972, 36.24000000000001, 'gini = 0.0\\nsamples = 6\\nvalue = [0, 6]'),\n",
       " Text(259.0423357664234, 108.72, 'X[7] <= 3238.0\\ngini = 0.26\\nsamples = 918\\nvalue = [141, 777]'),\n",
       " Text(249.26715328467154, 84.56, 'X[1] <= 1429.063\\ngini = 0.005\\nsamples = 745\\nvalue = [2, 743]'),\n",
       " Text(246.82335766423358, 60.400000000000006, 'X[9] <= 648.0\\ngini = 0.003\\nsamples = 744\\nvalue = [1, 743]'),\n",
       " Text(244.37956204379563, 36.24000000000001, 'gini = 0.0\\nsamples = 743\\nvalue = [0, 743]'),\n",
       " Text(249.26715328467154, 36.24000000000001, 'gini = 0.0\\nsamples = 1\\nvalue = [1, 0]'),\n",
       " Text(251.7109489051095, 60.400000000000006, 'gini = 0.0\\nsamples = 1\\nvalue = [1, 0]'),\n",
       " Text(268.8175182481752, 84.56, 'X[4] <= 403.5\\ngini = 0.316\\nsamples = 173\\nvalue = [139, 34]'),\n",
       " Text(259.0423357664234, 60.400000000000006, 'X[3] <= 1461.271\\ngini = 0.368\\nsamples = 37\\nvalue = [9, 28]'),\n",
       " Text(254.15474452554744, 36.24000000000001, 'X[1] <= 1337.942\\ngini = 0.185\\nsamples = 29\\nvalue = [3, 26]'),\n",
       " Text(251.7109489051095, 12.079999999999984, 'gini = 0.0\\nsamples = 2\\nvalue = [2, 0]'),\n",
       " Text(256.5985401459854, 12.079999999999984, 'gini = 0.071\\nsamples = 27\\nvalue = [1, 26]'),\n",
       " Text(263.9299270072993, 36.24000000000001, 'X[1] <= 1448.285\\ngini = 0.375\\nsamples = 8\\nvalue = [6, 2]'),\n",
       " Text(261.4861313868613, 12.079999999999984, 'gini = 0.0\\nsamples = 6\\nvalue = [6, 0]'),\n",
       " Text(266.3737226277372, 12.079999999999984, 'gini = 0.0\\nsamples = 2\\nvalue = [0, 2]'),\n",
       " Text(278.592700729927, 60.400000000000006, 'X[4] <= 752.5\\ngini = 0.084\\nsamples = 136\\nvalue = [130, 6]'),\n",
       " Text(273.7051094890511, 36.24000000000001, 'X[5] <= 65.042\\ngini = 0.459\\nsamples = 14\\nvalue = [9, 5]'),\n",
       " Text(271.2613138686132, 12.079999999999984, 'gini = 0.0\\nsamples = 9\\nvalue = [9, 0]'),\n",
       " Text(276.1489051094891, 12.079999999999984, 'gini = 0.0\\nsamples = 5\\nvalue = [0, 5]'),\n",
       " Text(283.4802919708029, 36.24000000000001, 'X[6] <= 1081317.0\\ngini = 0.016\\nsamples = 122\\nvalue = [121, 1]'),\n",
       " Text(281.036496350365, 12.079999999999984, 'gini = 0.5\\nsamples = 2\\nvalue = [1, 1]'),\n",
       " Text(285.9240875912409, 12.079999999999984, 'gini = 0.0\\nsamples = 120\\nvalue = [120, 0]'),\n",
       " Text(298.60127737226276, 181.2, 'X[0] <= 389.293\\ngini = 0.007\\nsamples = 169965\\nvalue = [598, 169367]'),\n",
       " Text(281.036496350365, 157.04, 'X[9] <= 256.5\\ngini = 0.284\\nsamples = 443\\nvalue = [367, 76]'),\n",
       " Text(276.1489051094891, 132.88, 'X[4] <= 274.5\\ngini = 0.006\\nsamples = 352\\nvalue = [351, 1]'),\n",
       " Text(273.7051094890511, 108.72, 'gini = 0.0\\nsamples = 1\\nvalue = [0, 1]'),\n",
       " Text(278.592700729927, 108.72, 'gini = 0.0\\nsamples = 351\\nvalue = [351, 0]'),\n",
       " Text(285.9240875912409, 132.88, 'X[2] <= 882.708\\ngini = 0.29\\nsamples = 91\\nvalue = [16, 75]'),\n",
       " Text(283.4802919708029, 108.72, 'X[7] <= 3810.5\\ngini = 0.096\\nsamples = 79\\nvalue = [4, 75]'),\n",
       " Text(281.036496350365, 84.56, 'gini = 0.0\\nsamples = 75\\nvalue = [0, 75]'),\n",
       " Text(285.9240875912409, 84.56, 'gini = 0.0\\nsamples = 4\\nvalue = [4, 0]'),\n",
       " Text(288.3678832116788, 108.72, 'gini = 0.0\\nsamples = 12\\nvalue = [12, 0]'),\n",
       " Text(316.1660583941606, 157.04, 'X[9] <= 812.0\\ngini = 0.003\\nsamples = 169522\\nvalue = [231, 169291]'),\n",
       " Text(306.08540145985404, 132.88, 'X[6] <= 1224380.25\\ngini = 0.002\\nsamples = 169469\\nvalue = [184, 169285]'),\n",
       " Text(293.2554744525548, 108.72, 'X[9] <= 227.0\\ngini = 0.386\\nsamples = 253\\nvalue = [66, 187]'),\n",
       " Text(290.8116788321168, 84.56, 'gini = 0.0\\nsamples = 51\\nvalue = [51, 0]'),\n",
       " Text(295.6992700729927, 84.56, 'X[7] <= 3569.5\\ngini = 0.137\\nsamples = 202\\nvalue = [15, 187]'),\n",
       " Text(290.8116788321168, 60.400000000000006, 'X[1] <= 1528.173\\ngini = 0.022\\nsamples = 183\\nvalue = [2, 181]'),\n",
       " Text(288.3678832116788, 36.24000000000001, 'gini = 0.0\\nsamples = 2\\nvalue = [2, 0]'),\n",
       " Text(293.2554744525548, 36.24000000000001, 'gini = 0.0\\nsamples = 181\\nvalue = [0, 181]'),\n",
       " Text(300.5868613138686, 60.400000000000006, 'X[4] <= 1773.5\\ngini = 0.432\\nsamples = 19\\nvalue = [13, 6]'),\n",
       " Text(298.1430656934307, 36.24000000000001, 'gini = 0.0\\nsamples = 13\\nvalue = [13, 0]'),\n",
       " Text(303.0306569343066, 36.24000000000001, 'gini = 0.0\\nsamples = 6\\nvalue = [0, 6]'),\n",
       " Text(318.9153284671533, 108.72, 'X[0] <= 414.763\\ngini = 0.001\\nsamples = 169216\\nvalue = [118, 169098]'),\n",
       " Text(316.4715328467153, 84.56, 'gini = 0.0\\nsamples = 8\\nvalue = [8, 0]'),\n",
       " Text(321.3591240875912, 84.56, 'X[4] <= 3974.5\\ngini = 0.001\\nsamples = 169208\\nvalue = [110, 169098]'),\n",
       " Text(312.8058394160584, 60.400000000000006, 'X[0] <= 657.833\\ngini = 0.001\\nsamples = 169189\\nvalue = [99, 169090]'),\n",
       " Text(307.9182481751825, 36.24000000000001, 'X[9] <= 225.5\\ngini = 0.115\\nsamples = 1062\\nvalue = [65, 997]'),\n",
       " Text(305.4744525547445, 12.079999999999984, 'gini = 0.081\\nsamples = 47\\nvalue = [45, 2]'),\n",
       " Text(310.3620437956204, 12.079999999999984, 'gini = 0.039\\nsamples = 1015\\nvalue = [20, 995]'),\n",
       " Text(317.6934306569343, 36.24000000000001, 'X[3] <= 1278.97\\ngini = 0.0\\nsamples = 168127\\nvalue = [34, 168093]'),\n",
       " Text(315.2496350364964, 12.079999999999984, 'gini = 0.0\\nsamples = 2\\nvalue = [2, 0]'),\n",
       " Text(320.1372262773723, 12.079999999999984, 'gini = 0.0\\nsamples = 168125\\nvalue = [32, 168093]'),\n",
       " Text(329.9124087591241, 60.400000000000006, 'X[5] <= 191.566\\ngini = 0.488\\nsamples = 19\\nvalue = [11, 8]'),\n",
       " Text(327.4686131386861, 36.24000000000001, 'X[1] <= 2368.928\\ngini = 0.153\\nsamples = 12\\nvalue = [11, 1]'),\n",
       " Text(325.0248175182482, 12.079999999999984, 'gini = 0.0\\nsamples = 11\\nvalue = [11, 0]'),\n",
       " Text(329.9124087591241, 12.079999999999984, 'gini = 0.0\\nsamples = 1\\nvalue = [0, 1]'),\n",
       " Text(332.35620437956203, 36.24000000000001, 'gini = 0.0\\nsamples = 7\\nvalue = [0, 7]'),\n",
       " Text(326.2467153284672, 132.88, 'X[5] <= 17.59\\ngini = 0.201\\nsamples = 53\\nvalue = [47, 6]'),\n",
       " Text(323.8029197080292, 108.72, 'gini = 0.0\\nsamples = 6\\nvalue = [0, 6]'),\n",
       " Text(328.6905109489051, 108.72, 'gini = 0.0\\nsamples = 47\\nvalue = [47, 0]')]"
      ]
     },
     "execution_count": 62,
     "metadata": {},
     "output_type": "execute_result"
    },
    {
     "data": {
      "image/png": "[encoded data removed]",
      "text/plain": [
       "<Figure size 432x288 with 1 Axes>"
      ]
     },
     "metadata": {
      "needs_background": "light"
     },
     "output_type": "display_data"
    }
   ],
   "source": [
    "tree.plot_tree(clf)"
   ]
  },
  {
   "cell_type": "code",
   "execution_count": 42,
   "metadata": {},
   "outputs": [
    {
     "data": {
      "image/png": "[encoded data removed]",
      "text/plain": [
       "<IPython.core.display.Image object>"
      ]
     },
     "execution_count": 42,
     "metadata": {},
     "output_type": "execute_result"
    }
   ],
   "source": [
    "from six import StringIO  \n",
    "from IPython.display import Image  \n",
    "from sklearn.tree import export_graphviz\n",
    "import pydotplus\n",
    "dot_data = StringIO()\n",
    "export_graphviz(clf, out_file=dot_data,  \n",
    "                filled=True, rounded=True,\n",
    "                special_characters=True, feature_names = webattack_features,class_names=['0','1'])\n",
    "graph = pydotplus.graph_from_dot_data(dot_data.getvalue())  \n",
    "graph.set_size('\"5,5!\"')\n",
    "graph.write_png('decisionTree.png')\n",
    "Image(graph.create_png())"
   ]
  },
  {
   "cell_type": "code",
   "execution_count": 63,
   "metadata": {},
   "outputs": [
    {
     "data": {
      "text/plain": [
       "{'classifier': ['Decision Tree'],\n",
       " 'accuracy': [0.9496618023376444],\n",
       " 'pre_recall_f1_score': [(0.949176731220277,\n",
       "   0.9540763609376217,\n",
       "   0.9494961037444984,\n",
       "   None)],\n",
       " 'time_taken': [1.9237070083618164]}"
      ]
     },
     "execution_count": 63,
     "metadata": {},
     "output_type": "execute_result"
    }
   ],
   "source": [
    "classifier_accuracy"
   ]
  },
  {
   "cell_type": "markdown",
   "metadata": {},
   "source": [
    "### XGB CLASSIFIER"
   ]
  },
  {
   "cell_type": "code",
   "execution_count": 64,
   "metadata": {},
   "outputs": [],
   "source": [
    "from xgboost import XGBClassifier\n",
    "clf = XGBClassifier"
   ]
  },
  {
   "cell_type": "code",
   "execution_count": null,
   "metadata": {},
   "outputs": [],
   "source": []
  }
 ],
 "metadata": {
  "interpreter": {
   "hash": "3c8a40abf24bfdc687a2d85f418eae1223b64348b660bbd412cdd29d932d90a8"
  },
  "kernelspec": {
   "display_name": "Python 3.8.10 64-bit ('ml': venv)",
   "language": "python",
   "name": "python3810jvsc74a57bd03c8a40abf24bfdc687a2d85f418eae1223b64348b660bbd412cdd29d932d90a8"
  },
  "language_info": {
   "codemirror_mode": {
    "name": "ipython",
    "version": 3
   },
   "file_extension": ".py",
   "mimetype": "text/x-python",
   "name": "python",
   "nbconvert_exporter": "python",
   "pygments_lexer": "ipython3",
   "version": "3.8.10"
  }
 },
 "nbformat": 4,
 "nbformat_minor": 2
}
